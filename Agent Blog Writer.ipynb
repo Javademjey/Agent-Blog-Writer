{
 "cells": [
  {
   "cell_type": "markdown",
   "id": "9b397022",
   "metadata": {},
   "source": [
    "### The code builds a simple two-step agent using LangGraph to:\n",
    "1. Search the web for information about a topic.\n",
    "\n",
    "2. Generate a blog post in a specific format using an LLM (OpenAI Chat model), with a small state machine controlling the flow.\n",
    "\n",
    "### High-Level Overview\n",
    "- **Purpose:** Given a topic (query) and a blog post template (specific_format), the workflow:\n",
    "\n",
    "1. Uses Tavily (a search API) to gather relevant content.\n",
    "\n",
    "2. Prompts an OpenAI chat model to write a blog post conforming to the specified format, using the search results as source material.\n",
    "\n",
    "- **Tech stack:**\n",
    "\n",
    "1. LangGraph: to build a small state machine (graph) that routes between “search” and “create_blog_post”.\n",
    "\n",
    "2. Tavily: web search tool to get content for the blog.\n",
    "\n",
    "3. OpenAI (via langchain_openai): LLM to write the blog post.\n",
    "\n",
    "3. IPython display: to render a graph diagram and final blog post in a notebook.\n"
   ]
  },
  {
   "cell_type": "markdown",
   "id": "27383b7b",
   "metadata": {},
   "source": [
    "## Imports"
   ]
  },
  {
   "cell_type": "code",
   "execution_count": null,
   "id": "fde69fd6",
   "metadata": {},
   "outputs": [],
   "source": [
    "from tavily import TavilyClient # Tool Search\n",
    "from typing_extensions import TypedDict \n",
    "from langgraph.graph import StateGraph, START, END\n",
    "from langgraph.prebuilt import tools_condition\n",
    "from langchain_openai import ChatOpenAI\n",
    "from IPython.display import Image, display, Markdown\n",
    "from langchain_core.messages import HumanMessage, SystemMessage"
   ]
  },
  {
   "cell_type": "markdown",
   "id": "1c019613",
   "metadata": {},
   "source": [
    "- `TavilyClient:` client to access Tavily’s search API.\n",
    "\n",
    "- `TypedDict:` for defining a strongly-typed state dictionary.\n",
    "\n",
    "- `StateGraph, START, END:` LangGraph primitives to define nodes, edges, and graph flow.\n",
    "\n",
    "- `tools_condition:` imported but not used in this snippet (can be removed).\n",
    "\n",
    "- `ChatOpenAI:` LangChain wrapper for OpenAI Chat models.\n",
    "\n",
    "- `Image, display, Markdown:` for visualizing the graph and showing the final output in notebooks.\n",
    "\n",
    "- `HumanMessage, SystemMessage:` message types for LLM prompts."
   ]
  },
  {
   "cell_type": "markdown",
   "id": "18f5bd75",
   "metadata": {},
   "source": [
    "## State Definition"
   ]
  },
  {
   "cell_type": "code",
   "execution_count": 2,
   "id": "ed011f9b",
   "metadata": {},
   "outputs": [],
   "source": [
    "class State(TypedDict):\n",
    "    query: str\n",
    "    specific_format: str\n",
    "    search_results: str\n",
    "    blog_post: str"
   ]
  },
  {
   "cell_type": "markdown",
   "id": "f08ceb36",
   "metadata": {},
   "source": [
    "The agent passes data around in a State dict with four fields:\n",
    "- `query:` the topic to write about.\n",
    "\n",
    "- `specific_format:` the blog post template to follow.\n",
    "\n",
    "- `search_results:` aggregated text from Tavily search.\n",
    "\n",
    "- `blog_post:` the final LLM-generated post."
   ]
  },
  {
   "cell_type": "markdown",
   "id": "6dc873d6",
   "metadata": {},
   "source": [
    "## Search Tool Node"
   ]
  },
  {
   "cell_type": "code",
   "execution_count": null,
   "id": "cd934bb6",
   "metadata": {},
   "outputs": [],
   "source": [
    "def SearchTool(state: State) -> State:\n",
    "    tavily_client = TavilyClient(api_key=\"tvly-dev-***\")\n",
    "    response = tavily_client.search(state[\"query\"])\n",
    "    if {\"url\",\"content\"}.issubset(response):\n",
    "        docs = [response]\n",
    "    else:\n",
    "        docs = response.get(\"results\", [])\n",
    "    state[\"search_results\"] = \"\\n\\n---\\n\\n\".join(\n",
    "        [f'<Document URL=\"{d.get(\"url\",\"\")}\"/>\\n{d.get(\"content\",\"\")}\\n</Document>' for d in docs]\n",
    "    )\n",
    "    return state"
   ]
  },
  {
   "cell_type": "markdown",
   "id": "363ede7f",
   "metadata": {},
   "source": [
    "What it does:\n",
    "\n",
    "- Calls Tavily with the query.\n",
    "\n",
    "- Normalizes the response into a list of `“docs”`.\n",
    "\n",
    "- Builds a single string `search_results` by joining all docs with separators.\n",
    "\n",
    "- Stores that text back into the state.\n",
    "\n",
    "**Notes:**\n",
    "\n",
    "- The format includes a simple pseudo-XML wrapper per document for clarity."
   ]
  },
  {
   "cell_type": "markdown",
   "id": "0b8010da",
   "metadata": {},
   "source": [
    "## Blog Post Generation Node"
   ]
  },
  {
   "cell_type": "code",
   "execution_count": null,
   "id": "9fc49680",
   "metadata": {},
   "outputs": [],
   "source": [
    "def CreateBlogPost(state: State) -> State:\n",
    "    llm = ChatOpenAI(model=\"gpt-4o-mini\", api_key=\"sk-proj-***\")\n",
    "    \n",
    "    system = SystemMessage(content=\n",
    "        (\n",
    "        \"You are a helpful assistant who can create a blog post according to a user-specified format (template).\"\n",
    "        \"The information required to write this blog post is provided to you by a search tool, and you have to write the blog post based on these results.\"\n",
    "        \"In date of writing the blog (Date), Enter the date of today\"\n",
    "        )\n",
    "    )\n",
    "    user = HumanMessage(content=\n",
    "        (\n",
    "        f\"Create a blog post about {state['query']} topic.\"\n",
    "        f\"Using the following format for an example of what I need: {state['specific_format']}.\"\n",
    "        f\"Use relevant following search results: {state['search_results']}\"\n",
    "        )\n",
    "    )\n",
    "\n",
    "    response = llm.invoke([system, user])\n",
    "\n",
    "    state[\"blog_post\"] = response.content\n",
    "    return state"
   ]
  },
  {
   "cell_type": "markdown",
   "id": "b8ba905d",
   "metadata": {},
   "source": [
    "What it does:\n",
    "\n",
    "- Initializes an OpenAI chat model (gpt-4o-mini here).\n",
    "- Crafts a system message (role/instructions) and a user message (task details).\n",
    "- Injects both the format template (`specific_format`) and the search results (`search_results`) into the prompt.\n",
    "- Invokes the model and saves the generated content into `blog_post`.\n",
    "\n",
    "- **Notes:**\n",
    "\n",
    "- The prompt explicitly asks the model to follow the template."
   ]
  },
  {
   "cell_type": "markdown",
   "id": "0a5e80cf",
   "metadata": {},
   "source": [
    "## Routing Logic (Supervisor)"
   ]
  },
  {
   "cell_type": "code",
   "execution_count": 20,
   "id": "270b2e63",
   "metadata": {},
   "outputs": [],
   "source": [
    "# Define routing logic\n",
    "def supervisor_route(state):\n",
    "    # Check if we have search results\n",
    "    if \"search_results\" in state and state[\"search_results\"]:\n",
    "        return \"create_blog_post\"\n",
    "    else:\n",
    "        return \"search\"\n"
   ]
  },
  {
   "cell_type": "markdown",
   "id": "a1e82bcc",
   "metadata": {},
   "source": [
    "What it does:\n",
    "- Checks whether `search_results` already exist in the state.\n",
    "\n",
    "- If not present, routes to the `“search”` node; otherwise, routes to `“create_blog_post”`.\n",
    "\n",
    "- This is a simple, deterministic controller: search first, then write.\n"
   ]
  },
  {
   "cell_type": "markdown",
   "id": "d29eecdd",
   "metadata": {},
   "source": [
    "## Building the Graph"
   ]
  },
  {
   "cell_type": "code",
   "execution_count": 21,
   "id": "740bebd2",
   "metadata": {},
   "outputs": [],
   "source": [
    "graph = StateGraph(State)\n",
    "\n",
    "graph.add_node(\"create_blog_post\", CreateBlogPost)\n",
    "graph.add_node(\"search\", SearchTool)\n",
    "\n",
    "graph.add_edge(START, \"search\")\n",
    "graph.add_conditional_edges(\"search\", supervisor_route, [\"create_blog_post\"])\n",
    "graph.add_edge(\"create_blog_post\", END)\n",
    "\n",
    "workflow = graph.compile()"
   ]
  },
  {
   "cell_type": "markdown",
   "id": "320a6f2b",
   "metadata": {},
   "source": [
    "What it does:\n",
    "- Creates a `StateGraph` with two nodes, `search` and `create_blog_post`.\n",
    "\n",
    "- Flow:\n",
    "\n",
    "    - START → search\n",
    "\n",
    "    - From search → conditional edge:\n",
    "\n",
    "        - If results exist, go to create_blog_post.\n",
    "\n",
    "    - create_blog_post → END\n",
    "    \n",
    "- Compiles the graph into an executable `workflow`.\n"
   ]
  },
  {
   "cell_type": "code",
   "execution_count": 22,
   "id": "0b04ba87",
   "metadata": {},
   "outputs": [
    {
     "data": {
      "image/png": "[encoded data removed]",
      "text/plain": [
       "<IPython.core.display.Image object>"
      ]
     },
     "metadata": {},
     "output_type": "display_data"
    }
   ],
   "source": [
    "display(Image(workflow.get_graph().draw_mermaid_png()))"
   ]
  },
  {
   "cell_type": "markdown",
   "id": "b740ca9a",
   "metadata": {},
   "source": [
    "Renders a diagram of the graph (requires a notebook environment and Graphviz/Mermaid rendering support via LangGraph)."
   ]
  },
  {
   "cell_type": "markdown",
   "id": "10b8c775",
   "metadata": {},
   "source": [
    "## Template for the Blog Post"
   ]
  },
  {
   "cell_type": "code",
   "execution_count": null,
   "id": "02370284",
   "metadata": {},
   "outputs": [],
   "source": [
    "format_sample_blog_post =\"\"\"\n",
    "Target audience (e.g., developers, marketers, beginners, executives)? developers\n",
    "Tone (e.g., friendly, authoritative, academic, playful)? authoritative\n",
    "Typical length (e.g., 800–1,500 words)? 900-1200\n",
    "SEO needs (keywords, meta description)?\n",
    "Visuals (images, code snippets, diagrams)? code and table\n",
    "\n",
    "Default blog post template (tech/AI audience)\n",
    "1) Front matter\n",
    "Title:\n",
    "Subtitle:\n",
    "Author: Emjey\n",
    "Date: \n",
    "Reading time:\n",
    "Category/Tags:\n",
    "Target keyword:\n",
    "Meta description (150–160 chars):\n",
    "\n",
    "2) Hook\n",
    "1–3 punchy sentences that state the problem and promise the outcome.\n",
    "Optional stat or question to build curiosity.\n",
    "3) Summary \n",
    " 3–5 bullets with the key takeaways.\n",
    " Who this post is for.\n",
    " What readers will be able to do after reading.\n",
    "4) Context and problem framing\n",
    "What’s changing in the space and why this matters now.\n",
    "Define the problem clearly (pain points, constraints, stakes).\n",
    "Scope: what’s included/excluded.\n",
    "5) Core concepts\n",
    "Definitions of key terms (concise, scannable).\n",
    "Mental model or analogy to anchor understanding.\n",
    "6) Step-by-step walkthrough\n",
    "Step title — goal and prerequisites.\n",
    "Step title — clear actions, code/commands if relevant.\n",
    "Step title — validation checks and expected outputs.\n",
    "Include:\n",
    "Code blocks (copy-paste ready).\n",
    "Notes, pitfalls, and alternatives.\n",
    "7) Example (end-to-end)\n",
    "Brief scenario.\n",
    "Input → Process → Output.\n",
    "Why this approach works and trade-offs.\n",
    "8) Visuals and artifacts\n",
    " Diagram or architecture sketch.\n",
    " Table summarizing options/parameters.\n",
    " Links to a GitHub repo, Colab, or demo.\n",
    "9) Performance, costs, and trade-offs\n",
    "When it shines vs. when it struggles.\n",
    "Benchmarks or back-of-the-envelope math.\n",
    "Security/privacy considerations.\n",
    "10) Conclusion and next steps\n",
    "Recap the benefit in one sentence.\n",
    "What to try next (related posts, advanced guides).\n",
    "Clear CTA.\n",
    "11) FAQs\n",
    "3–6 focused Q&As addressing common objections.\n",
    "12) References\n",
    "Standards, docs, research, and high-quality articles.\n",
    "\"\"\""
   ]
  },
  {
   "cell_type": "markdown",
   "id": "6a7cd63c",
   "metadata": {},
   "source": [
    "This multiline string defines the desired blog format (template) and some preferences, which the LLM will attempt to follow."
   ]
  },
  {
   "cell_type": "markdown",
   "id": "14189620",
   "metadata": {},
   "source": [
    "## Running the Workflow"
   ]
  },
  {
   "cell_type": "code",
   "execution_count": 24,
   "id": "3b2ee523",
   "metadata": {},
   "outputs": [
    {
     "data": {
      "text/markdown": [
       "---\n",
       "**Front matter**  \n",
       "**Title:** GPT-5 Prompt Migration and Improvement Using the New Optimizer  \n",
       "**Subtitle:** Harnessing the New Tools for Effective GPT-5 Prompt Management  \n",
       "**Author:** Emjey Fakhraei  \n",
       "**Date:** October 15, 2023  \n",
       "**Reading time:** 10 minutes  \n",
       "**Category/Tags:** AI, Machine Learning, OpenAI, GPT-5, Prompt Engineering  \n",
       "**Target keyword:** GPT-5 prompt optimization  \n",
       "**Meta description (150–160 chars):** Discover how to effectively migrate and improve your prompts for GPT-5 using OpenAI's new Prompt Optimizer tool for better outcomes.  \n",
       "\n",
       "---\n",
       "\n",
       "### Hook\n",
       "The introduction of GPT-5 brings new possibilities for developers aiming to harness its capabilities, but migrating existing prompts can be a daunting task. Enter the Prompt Optimizer—a game-changing tool that simplifies the process of prompt enhancement, allowing for a more effective and seamless integration with GPT-5's new functionalities. Are you ready to elevate your prompt engineering skills?\n",
       "\n",
       "### Summary\n",
       "- Explore the importance of migrating prompts to GPT-5.\n",
       "- Learn how to use the Prompt Optimizer tool effectively.\n",
       "- Understand the core concepts that underlie prompt engineering for GPT-5.\n",
       "- Get actionable steps for prompt migration with real-world examples.\n",
       "\n",
       "**Who this post is for:** Developers working with AI models, particularly those utilizing OpenAI's models.\n",
       "\n",
       "**What readers will be able to do after reading:** Develop a deeper understanding of prompt optimization and confidently migrate and improve their prompts for GPT-5 using the Prompt Optimizer.\n",
       "\n",
       "### Context and Problem Framing\n",
       "As AI continues to evolve, developers are compelled to adapt their approaches to harness the full potential of new models like GPT-5. The introduction of the Prompt Optimizer addresses the complexity and necessity of migrating existing prompts designed for earlier versions, which may not yield optimal results with the latest iteration. \n",
       "\n",
       "**Pain points:** \n",
       "- Existing prompts may fail to leverage GPT-5's advanced capabilities.\n",
       "- Developers might struggle with crafting effective prompts under new guidelines.\n",
       "  \n",
       "**Scope:** This guide focuses on using the Prompt Optimizer to enhance prompts for GPT-5, excluding other model interactions.\n",
       "\n",
       "### Core Concepts\n",
       "**Key Definitions:**\n",
       "- **Prompt Optimization:** Adjusting the input provided to AI for improved responses.\n",
       "- **Prompt Migration:** Adapting existing prompts for compatibility with a new AI model.\n",
       "\n",
       "**Mental Model:** Consider prompts as an engine—the more efficiently you tune the engine, the better performance you can expect.\n",
       "\n",
       "### Step-by-Step Walkthrough\n",
       "#### Step 1 — Set up the Prompt Optimizer\n",
       "**Goal:** Access the newly designed Prompt Optimizer in the OpenAI Playground.\n",
       "\n",
       "**Prerequisites:** \n",
       "- An OpenAI account.\n",
       "- Access to the Playground.\n",
       "\n",
       "**Actions:**\n",
       "1. Log into your OpenAI account.\n",
       "2. Navigate to the Playground.\n",
       "3. Select the Prompt Optimizer tool option from the menu.\n",
       "\n",
       "#### Step 2 — Input Existing Prompts\n",
       "**Actions:** \n",
       "- Copy your existing prompts into the input field.\n",
       "- Click on the \"Optimize\" button.\n",
       "\n",
       "**Expected Output:** A revised prompt optimized for GPT-5's features.\n",
       "\n",
       "```python\n",
       "# Example of input prompt\n",
       "\"Write a Python function that calculates the factorial of a number.\"\n",
       "```\n",
       "\n",
       "#### Step 3 — Validate Output\n",
       "**Actions:**\n",
       "- Test the output by entering it into a new API call setup within the Playground.\n",
       "\n",
       "**Expected Output:** Check for improved relevance and creativity in the generated text.\n",
       "\n",
       "### Example (End-to-End)\n",
       "**Scenario:** You have a prompt that asks for a guide on AI ethics.\n",
       "\n",
       "**Input:** \"Explain the importance of AI ethics.\"\n",
       "\n",
       "**Process:** After optimization, the revised prompt includes suggestions for discussing real-world applications and ethical considerations.\n",
       "\n",
       "**Output:** A comprehensive and nuanced response, highlighting key scenarios in AI ethics.\n",
       "\n",
       "**Why this approach works:** By using the Prompt Optimizer, developers can ensure that prompts facilitate better understanding and more engaging outputs, thereby maximizing the value derived from GPT-5.\n",
       "\n",
       "### Visuals and Artifacts\n",
       "- **Diagram** illustrating the migration process with the Prompt Optimizer.\n",
       "- **Table** summarizing different parameters for prompt input and expected outputs.\n",
       "\n",
       "**Links:** \n",
       "- [OpenAI Cookbook: Prompt Optimization Guide](https://cookbook.openai.com/examples/gpt-5/prompt-optimization-cookbook/)\n",
       "- [GitHub Repository for Example Prompts](#)\n",
       "\n",
       "### Performance, Costs, and Trade-offs\n",
       "**When it shines:** The Prompt Optimizer excels in ensuring compatibility and enhancing the complexity of interactions, which historically have been challenging for developers.\n",
       "\n",
       "**When it struggles:** The tool may face limitations with highly specialized or unique prompts that require nuanced human insight beyond the model's training data.\n",
       "\n",
       "**Security/privacy considerations:** Ensure sensitive data is not inadvertently included in prompt inputs, following best practices for data handling.\n",
       "\n",
       "### Conclusion and Next Steps\n",
       "Migrating and improving prompts for GPT-5 using the new Prompt Optimizer can substantially enhance your AI applications. \n",
       "\n",
       "**What to try next:** Explore advanced guides on prompt engineering strategies and case studies demonstrating real-world applications.\n",
       "\n",
       "**Clear CTA:** Dive into the OpenAI Cookbook and start utilizing the Prompt Optimizer today to elevate your prompt effectiveness!\n",
       "\n",
       "### FAQs\n",
       "**Q: How does the Prompt Optimizer differ from previous methods?**  \n",
       "A: It simplifies the process of adapting existing prompts for GPT-5's architecture, incorporating new best practices automatically. \n",
       "\n",
       "**Q: Can the Optimizer handle complex prompts?**  \n",
       "A: Yes, but ensure that complex requirements are clearly defined to receive optimal results.\n",
       "\n",
       "**Q: Is there a cost associated with using the Prompt Optimizer?**  \n",
       "A: No, accessing the Prompt Optimizer in the Playground is free, subject to the usage limits of your OpenAI account.\n",
       "\n",
       "### References\n",
       "- [OpenAI Cookbook: Prompt Optimization](https://cookbook.openai.com/examples/gpt-5/prompt-optimization-cookbook/)\n",
       "- [GPT-5 Prompting Guide](https://community.openai.com/t/prompting-gpt-5-is-different/1344710)  \n",
       "- [YouTube Introduction to Prompt Optimizer](https://www.youtube.com/watch?v=emldkKKIpl8)  \n",
       "\n",
       "---"
      ],
      "text/plain": [
       "<IPython.core.display.Markdown object>"
      ]
     },
     "metadata": {},
     "output_type": "display_data"
    }
   ],
   "source": [
    "response = workflow.invoke({\"query\": \"GPT-5 Prompt Migration and Improvement Using the New Optimizer | OpenAI Cookbook\", \"specific_format\": format_sample_blog_post})\n",
    "display(Markdown(response[\"blog_post\"]))"
   ]
  },
  {
   "cell_type": "markdown",
   "id": "71a97609",
   "metadata": {},
   "source": [
    "\n",
    "\n",
    "\n",
    "\n",
    "\n",
    "- What it does:\n",
    "\n",
    "    - Invokes the compiled graph with:\n",
    "\n",
    "        - `query:` the topic to search and write about.\n",
    "\n",
    "        - `specific_format:` the blog post template.\n",
    "\n",
    "    - The graph:\n",
    "    \n",
    "        - Runs the `search` node → fetches search results via Tavily.\n",
    "\n",
    "        - Routes to `create_blog_post` → asks the LLM to write a post using the template and search results.\n",
    "\n",
    "    - Displays the final blog post as Markdown.\n"
   ]
  },
  {
   "cell_type": "markdown",
   "id": "8ab12691",
   "metadata": {},
   "source": [
    "**Execution Flow Summary**\n",
    "\n",
    "1. Start with an initial `State` containing `query` and `specific_format`.\n",
    "\n",
    "2. SearchTool:\n",
    "\n",
    "    - Queries Tavily and writes combined results to `search_results`.\n",
    "\n",
    "3. Supervisor:\n",
    "\n",
    "    - Sees `search_results` is now present; routes to `create_blog_post`.\n",
    "\n",
    "4. CreateBlogPost:\n",
    "\n",
    "    - Prompts the LLM with system+user messages including template and search results.\n",
    "\n",
    "    - Writes `blog_post` back to state.\n",
    "\n",
    "5. Workflow ends; the blog post is displayed.\n"
   ]
  },
  {
   "cell_type": "markdown",
   "id": "b7d2384e",
   "metadata": {},
   "source": [
    "**What You Can Customize (*GPT Suggestion*)**\n",
    "- **The blog template (`specific_format`):** change structure, tone, SEO requirements.\n",
    "\n",
    "- **The search step:** add filtering, deduplication, or summarization of results.\n",
    "\n",
    "- **The LLM model:** pick a different OpenAI model or a different provider.\n",
    "\n",
    "- **The routing:** add more nodes (e.g., “summarize results,” “outline first,” “revise for SEO”) and more conditional logic.\n"
   ]
  }
 ],
 "metadata": {
  "kernelspec": {
   "display_name": "llms",
   "language": "python",
   "name": "python3"
  },
  "language_info": {
   "codemirror_mode": {
    "name": "ipython",
    "version": 3
   },
   "file_extension": ".py",
   "mimetype": "text/x-python",
   "name": "python",
   "nbconvert_exporter": "python",
   "pygments_lexer": "ipython3",
   "version": "3.11.10"
  }
 },
 "nbformat": 4,
 "nbformat_minor": 5
}
